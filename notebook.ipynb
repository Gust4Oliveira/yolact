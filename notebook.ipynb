{
 "cells": [
  {
   "attachments": {},
   "cell_type": "markdown",
   "metadata": {},
   "source": [
    "### Train model\n",
    "Default = ```!python train.py --config=config_target``` (https://www.immersivelimit.com/tutorials/train-yolact-with-a-custom-coco-dataset)"
   ]
  },
  {
   "cell_type": "code",
   "execution_count": null,
   "metadata": {},
   "outputs": [],
   "source": [
    "!python train.py --config=lips_on_rmi_resnet50_config\n",
    "!python train.py --config=lips_on_rmi_resnet101_config\n",
    "!python train.py --config=lips_on_rmi_darknet53_config\n",
    "!python train.py --config=lips_on_rmi_darknet101_700_config --batch_size=7\n",
    "!python train.py --config=yolact_plus_lips_on_rmi_resnet50_config \n",
    "!python train.py --config=yolact_plus_lips_on_rmi_resnet101_config "
   ]
  },
  {
   "attachments": {},
   "cell_type": "markdown",
   "metadata": {},
   "source": [
    "### View train logs"
   ]
  },
  {
   "cell_type": "code",
   "execution_count": null,
   "metadata": {},
   "outputs": [],
   "source": [
    "from utils.logger import LogVisualizer\n",
    "vis = LogVisualizer()\n",
    "\n",
    "vis.add('logs/yolact_plus_lips_on_rmi_resnet50.log', session=0)\n",
    "vis.plot('val', 'x.data.epoch', 'x.data.mask[\"all\"]')\n",
    "# vis.plot('train', 'x.data.iter * s.data.batch_size', 'x.data.loss.M', smoothness=1000)"
   ]
  },
  {
   "attachments": {},
   "cell_type": "markdown",
   "metadata": {},
   "source": [
    "### Test the model with images\n",
    "Default = ```!python tools/demo.py image -f /content/YOLOX/exps/example/yolox_voc/yolox_voc_s.py -c {MODEL_PATH} --path {TEST_IMAGE_PATH} --conf 0.25 --nms 0.45 --tsize 640 --save_result --device gpu```"
   ]
  },
  {
   "cell_type": "code",
   "execution_count": null,
   "metadata": {},
   "outputs": [],
   "source": [
    "IMG_PATH = r\"C:\\Users\\gusta\\OneDrive\\Documentos\\TCC\\Dataset\\Pos-notacao_120Seg\\InstanceSegmentation\\120Seg.v2i.coco-segmentation\\test_salt_and_pepper\"\n",
    "CHECKPOINT = 'lips_on_rmi_darknet53_96_10000.pth'\n",
    "!python eval.py --trained_model=weights/{CHECKPOINT} --score_threshold=0.15 --top_k=15 --images={IMG_PATH};./content/output_images/{CHECKPOINT} --output_web_json\n",
    "CHECKPOINT = 'lips_on_rmi_resnet50_96_10000.pth'\n",
    "!python eval.py --trained_model=weights/{CHECKPOINT} --score_threshold=0.15 --top_k=15 --images={IMG_PATH};./content/output_images/{CHECKPOINT} --output_web_json\n",
    "CHECKPOINT = 'lips_on_rmi_resnet101_96_10000.pth'\n",
    "!python eval.py --trained_model=weights/{CHECKPOINT} --score_threshold=0.15 --top_k=15 --images={IMG_PATH};./content/output_images/{CHECKPOINT} --output_web_json\n",
    "CHECKPOINT = 'lips_on_rmi_resnet101_700_84_10000.pth'\n",
    "!python eval.py --trained_model=weights/{CHECKPOINT} --score_threshold=0.15 --top_k=15 --images={IMG_PATH};./content/output_images/{CHECKPOINT} --output_web_json\n",
    "CHECKPOINT = 'yolact_plus_lips_on_rmi_resnet50_96_10000.pth'\n",
    "!python eval.py --trained_model=weights/{CHECKPOINT} --score_threshold=0.15 --top_k=15 --images={IMG_PATH};./content/output_images/{CHECKPOINT} --output_web_json\n",
    "CHECKPOINT = 'yolact_plus_lips_on_rmi_resnet101_96_10000.pth'\n",
    "!python eval.py --trained_model=weights/{CHECKPOINT} --score_threshold=0.15 --top_k=15 --images={IMG_PATH};./content/output_images/{CHECKPOINT} --output_web_json\n",
    "    "
   ]
  },
  {
   "attachments": {},
   "cell_type": "markdown",
   "metadata": {},
   "source": [
    "### Process img logs"
   ]
  },
  {
   "cell_type": "code",
   "execution_count": null,
   "metadata": {},
   "outputs": [],
   "source": [
    "import csv\n",
    "\n",
    "def process_log(logfile_name):\n",
    "    log_file_name = './weights/'+logfile_name\n",
    "\n",
    "    file = open(log_file_name,'r')\n",
    "    text = file.read() \n",
    "\n",
    "    csvFile = csv.writer(open(log_file_name.replace('.txt','.csv'),'w'))\n",
    "    csvFile.writerow(['class','accuracy'])\n",
    "\n",
    "    lines = text.splitlines()\n",
    "    for line in lines:\n",
    "        line = line.split(':')[2]\n",
    "        print(line)\n",
    "        csvFile.writerow((line).split('-'))\n",
    "    file.close()\n",
    "    \n",
    "process_log('lips_on_rmi_darknet53_96_10000.pth_log.txt')\n",
    "process_log('lips_on_rmi_resnet50_96_10000.pth_log.txt')\n",
    "process_log('lips_on_rmi_resnet101_96_10000.pth_log.txt')\n",
    "process_log('lips_on_rmi_resnet101_700_84_10000.pth_log.txt')\n",
    "process_log('yolact_plus_lips_on_rmi_resnet50_96_10000.pth_log.txt')\n",
    "process_log('yolact_plus_lips_on_rmi_resnet101_96_10000.pth_log.txt')"
   ]
  },
  {
   "attachments": {},
   "cell_type": "markdown",
   "metadata": {},
   "source": [
    "### Test the model with video\n",
    "Default = ```python tools/demo.py video -f exps/example/yolox_voc/yolox_voc_s.py -c {MODEL_PATH} --path /path/to/your/video --conf 0.25 --nms 0.45 --tsize 640 --save_result --device [gpu]```"
   ]
  },
  {
   "cell_type": "code",
   "execution_count": null,
   "metadata": {},
   "outputs": [],
   "source": [
    "VIDEO_PATH = r\"C:\\Users\\gusta\\OneDrive\\Documentos\\TCC\\Dataset\\Pre-Processamento_120Seg\\original_video.mp4\"\n",
    "\n",
    "CHECKPOINT = 'lips_on_rmi_darknet53_96_10000.pth'\n",
    "!python eval.py --trained_model=weights/{CHECKPOINT} --score_threshold=0.15 --top_k=15 --video_multiframe=4 --video={VIDEO_PATH};./content/output_video/{CHECKPOINT}.mp4 --display_fps\n",
    "CHECKPOINT = 'lips_on_rmi_resnet50_96_10000.pth'\n",
    "!python eval.py --trained_model=weights/{CHECKPOINT} --score_threshold=0.15 --top_k=15 --video_multiframe=4 --video={VIDEO_PATH};./content/output_video/{CHECKPOINT}.mp4 --display_fps\n",
    "CHECKPOINT = 'lips_on_rmi_resnet101_96_10000.pth'\n",
    "!python eval.py --trained_model=weights/{CHECKPOINT} --score_threshold=0.15 --top_k=15 --video_multiframe=4 --video={VIDEO_PATH};./content/output_video/{CHECKPOINT}.mp4 --display_fps\n",
    "CHECKPOINT = 'lips_on_rmi_resnet101_700_84_10000.pth'\n",
    "!python eval.py --trained_model=weights/{CHECKPOINT} --score_threshold=0.15 --top_k=15 --video_multiframe=4 --video={VIDEO_PATH};./content/output_video/{CHECKPOINT}.mp4 --display_fps\n",
    "CHECKPOINT = 'yolact_plus_lips_on_rmi_resnet50_96_10000.pth'\n",
    "!python eval.py --trained_model=weights/{CHECKPOINT} --score_threshold=0.15 --top_k=15 --video_multiframe=4 --video={VIDEO_PATH};./content/output_video/{CHECKPOINT}.mp4 --display_fps\n",
    "CHECKPOINT = 'yolact_plus_lips_on_rmi_resnet101_96_10000.pth'\n",
    "!python eval.py --trained_model=weights/{CHECKPOINT} --score_threshold=0.15 --top_k=15 --video_multiframe=4 --video={VIDEO_PATH};./content/output_video/{CHECKPOINT}.mp4 --display_fps"
   ]
  },
  {
   "attachments": {},
   "cell_type": "markdown",
   "metadata": {},
   "source": [
    "### Process video logs"
   ]
  },
  {
   "cell_type": "code",
   "execution_count": null,
   "metadata": {},
   "outputs": [],
   "source": [
    "import csv\n",
    "\n",
    "def process_log(logfile_name):\n",
    "    log_file_name = './weights/'+logfile_name\n",
    "\n",
    "    file = open(log_file_name,'r')\n",
    "    text = file.read() \n",
    "    csvFileFPS = csv.writer(open(log_file_name.replace('.txt','FPS.csv'),'w'),)\n",
    "    csvFileFPS.writerow(['FPS'])\n",
    "    csvFilemAP = csv.writer(open(log_file_name.replace('.txt','mAP.csv'),'w'))\n",
    "    csvFilemAP.writerow(['class','accuracy'])\n",
    "\n",
    "    lines = text.splitlines()\n",
    "    for line in lines:\n",
    "        line = line.split(':')[2]\n",
    "        if \"fps\" in line:\n",
    "            csvFileFPS.writerow([float(line[:-4])])\n",
    "        else:\n",
    "            csvFilemAP.writerow((line).split('-'))\n",
    "    file.close()\n",
    "\n",
    "process_log('lips_on_rmi_darknet53_96_10000.pth_log.txt')\n",
    "process_log('lips_on_rmi_resnet50_96_10000.pth_log.txt')\n",
    "process_log('lips_on_rmi_resnet101_96_10000.pth_log.txt')\n",
    "process_log('lips_on_rmi_resnet101_700_84_10000.pth_log.txt')\n",
    "process_log('yolact_plus_lips_on_rmi_resnet50_96_10000.pth_log.txt')\n",
    "process_log('yolact_plus_lips_on_rmi_resnet101_96_10000.pth_log.txt')"
   ]
  },
  {
   "attachments": {},
   "cell_type": "markdown",
   "metadata": {},
   "source": [
    "### Process and get csvs from train logs\n"
   ]
  },
  {
   "cell_type": "code",
   "execution_count": null,
   "metadata": {},
   "outputs": [],
   "source": [
    "import csv, json\n",
    " \n",
    "def process_log(logfile_name):\n",
    "    logfile = open('./logs/'+logfile_name)\n",
    "    log_text = logfile.read()\n",
    "    log_text = log_text.splitlines()\n",
    "\n",
    "    # CSV Structure\n",
    "    # -> value\n",
    "    # -> iter\n",
    "    # -> epoch\n",
    "    \n",
    "    loss = csv.writer(open('./logs/csv/loss_'+logfile_name.replace('.log','.csv'),'w',newline='', encoding='utf-8'))\n",
    "    val_box = csv.writer(open('./logs/csv/val_box_'+logfile_name.replace('.log','.csv'),'w',newline='', encoding='utf-8'))\n",
    "    val_mask = csv.writer(open('./logs/csv/val_mask_'+logfile_name.replace('.log','.csv'),'w',newline='', encoding='utf-8'))\n",
    "\n",
    "    loss.writerow(['B','M','C','S','T','epoch','iter'])\n",
    "    val_box.writerow(['all','50','55','60','65','70','75','80','85','90','95','epoch','iter'])\n",
    "    val_mask.writerow(['all','50','55','60','65','70','75','80','85','90','95','epoch','iter'])\n",
    "    \n",
    "    for line in log_text:\n",
    "        line_dict = json.loads(line)\n",
    "        # Loss log\n",
    "        if line_dict['type'] == 'train':\n",
    "            loss_data = line_dict['data']['loss']\n",
    "            loss.writerow([loss_data['B'],loss_data['M'],loss_data['C'],loss_data['S'],loss_data['T'],line_dict['data']['epoch'],line_dict['data']['iter']])\n",
    "        # Val log\n",
    "        if line_dict['type'] == 'val':\n",
    "            val_data_box = line_dict['data']['box']\n",
    "            val_data_mask = line_dict['data']['mask']\n",
    "            val_box.writerow([val_data_box['all'],val_data_box['50'],val_data_box['55'],val_data_box['60'],val_data_box['65'],val_data_box['70'],val_data_box['75'],val_data_box['80'],val_data_box['85'],val_data_box['90'],val_data_box['95'],line_dict['data']['epoch'],line_dict['data']['iter']])\n",
    "            val_mask.writerow([val_data_mask['all'],val_data_mask['50'],val_data_mask['55'],val_data_mask['60'],val_data_mask['65'],val_data_mask['70'],val_data_mask['75'],val_data_mask['80'],val_data_mask['85'],val_data_mask['90'],val_data_mask['95'],line_dict['data']['epoch'],line_dict['data']['iter']])\n",
    "    \n",
    "process_log('lips_on_rmi_darknet53.log')\n",
    "process_log('lips_on_rmi_resnet50.log')\n",
    "process_log('lips_on_rmi_resnet101_700.log')\n",
    "process_log('lips_on_rmi_resnet101.log')\n",
    "process_log('yolact_plus_lips_on_rmi_resnet50.log')\n",
    "process_log('yolact_plus_lips_on_rmi_resnet101.log')"
   ]
  },
  {
   "attachments": {},
   "cell_type": "markdown",
   "metadata": {},
   "source": [
    "### Plot CSVs"
   ]
  },
  {
   "cell_type": "code",
   "execution_count": 25,
   "metadata": {},
   "outputs": [
    {
     "data": {
      "image/png": "[encoded data removed]",
      "text/plain": [
       "<Figure size 640x480 with 1 Axes>"
      ]
     },
     "metadata": {},
     "output_type": "display_data"
    }
   ],
   "source": [
    "import pandas\n",
    "import matplotlib.pyplot as pyplot\n",
    "def plot_csv_box_loss(file_name):\n",
    "    data = pandas.read_csv('./logs/csv/'+file_name)\n",
    "    B = data['B'].tolist()\n",
    "    iter = data['iter'].tolist()\n",
    "    # pyplot.plot(iter,B,label=file_name.split(\"_\")[-1].replace('.csv',''))\n",
    "    # pyplot.plot(iter,B,label=(file_name.split(\"_\")[-2]+'_'+file_name.split(\"_\")[-1]).replace('.csv',''))\n",
    "    pyplot.plot(iter,B,label=\"yolact_plus_resnet101\")\n",
    "    pyplot.xlabel('Iter')\n",
    "    pyplot.ylabel('Loss')\n",
    "    pyplot.xticks(range(0,100001,20000))\n",
    "    pyplot.xlim(right=100000)\n",
    "    pyplot.yticks(range(0,7,1))\n",
    "    pyplot.title('Box Locallization Loss per iter')\n",
    "    pyplot.legend(loc='upper right')\n",
    "    pyplot.show()\n",
    "\n",
    "def plot_csv_val(file_name):\n",
    "    data = pandas.read_csv('./logs/csv/'+file_name)\n",
    "    all = data['all'].tolist()\n",
    "    iter = data['iter'].tolist()\n",
    "    pyplot.plot(iter,all,\"-\",label=\"yolact_plus_resnet101\")\n",
    "    # pyplot.plot(iter,all,\"-\",label=file_name.split(\"_\")[-1].replace('.csv',''))\n",
    "    # pyplot.plot(iter,all,\"-\",label=(file_name.split(\"_\")[-2]+'_'+file_name.split(\"_\")[-1]).replace('.csv',''))\n",
    "    pyplot.xlabel('Iter')\n",
    "    pyplot.ylabel('0.5:0.05:0.9 mAP')\n",
    "    pyplot.xticks(range(0,100001,20000))\n",
    "    pyplot.xlim(right=100000)\n",
    "    pyplot.legend(loc='lower right')\n",
    "    pyplot.title('0.5:0.05:0.9 mAP per iter')\n",
    "    pyplot.show()\n",
    "\n",
    "def plot_csv_val_box_all():\n",
    "    darknet53 = pandas.read_csv('./logs/csv/'+'val_box_lips_on_rmi_darknet53.csv')\n",
    "    resnet50 = pandas.read_csv('./logs/csv/'+'val_box_lips_on_rmi_resnet50.csv')\n",
    "    resnet101 = pandas.read_csv('./logs/csv/'+'val_box_lips_on_rmi_resnet101.csv')\n",
    "    resnet101_700 = pandas.read_csv('./logs/csv/'+'val_box_lips_on_rmi_resnet101_700.csv')\n",
    "    yolact_plus_resnet50 = pandas.read_csv('./logs/csv/'+'val_box_yolact_plus_lips_on_rmi_resnet50.csv')\n",
    "    yolact_plus_resnet101 = pandas.read_csv('./logs/csv/'+'val_box_yolact_plus_lips_on_rmi_resnet101.csv')\n",
    " \n",
    "    pyplot.plot(darknet53['iter'].tolist(),darknet53['all'].tolist(),\"p--\",label=\"darknet53\")\n",
    "    pyplot.plot(resnet50['iter'].tolist(),resnet50['all'].tolist(),\"s--\",label=\"resnet50\")\n",
    "    pyplot.plot(resnet101['iter'].tolist(),resnet101['all'].tolist(),\"o--\",label=\"resnet101\")\n",
    "    pyplot.plot(resnet101_700['iter'].tolist(),resnet101_700['all'].tolist(),\"v--\",label=\"resnet101_700\")\n",
    "    pyplot.plot(yolact_plus_resnet50['iter'].tolist(),yolact_plus_resnet50['all'].tolist(),\"<--\",label=\"yolact_plus_resnet50\")\n",
    "    pyplot.plot(yolact_plus_resnet101['iter'].tolist(),yolact_plus_resnet101['all'].tolist(),\">--\",label=\"yolact_plus_resnet101\")\n",
    "    pyplot.xlabel('Iter')\n",
    "    pyplot.ylabel('0.5:0.05:0.9 mAP')\n",
    "    pyplot.xticks(range(0,100001,20000))\n",
    "    pyplot.xlim(right=100000)\n",
    "    pyplot.legend(loc='lower right')\n",
    "    pyplot.title('0.5:0.05:0.9 mAP per iter')\n",
    "    pyplot.show()\n",
    "\n",
    "def plot_csv_val_mask_all():\n",
    "    darknet53 = pandas.read_csv('./logs/csv/'+'val_mask_lips_on_rmi_darknet53.csv')\n",
    "    resnet50 = pandas.read_csv('./logs/csv/'+'val_mask_lips_on_rmi_resnet50.csv')\n",
    "    resnet101 = pandas.read_csv('./logs/csv/'+'val_mask_lips_on_rmi_resnet101.csv')\n",
    "    resnet101_700 = pandas.read_csv('./logs/csv/'+'val_mask_lips_on_rmi_resnet101_700.csv')\n",
    "    yolact_plus_resnet50 = pandas.read_csv('./logs/csv/'+'val_mask_yolact_plus_lips_on_rmi_resnet50.csv')\n",
    "    yolact_plus_resnet101 = pandas.read_csv('./logs/csv/'+'val_mask_yolact_plus_lips_on_rmi_resnet101.csv')\n",
    " \n",
    "    pyplot.plot(darknet53['iter'].tolist(),darknet53['all'].tolist(),\"-\",label=\"darknet53\")\n",
    "    pyplot.plot(resnet50['iter'].tolist(),resnet50['all'].tolist(),\"-\",label=\"resnet50\")\n",
    "    pyplot.plot(resnet101['iter'].tolist(),resnet101['all'].tolist(),\"-\",label=\"resnet101\")\n",
    "    pyplot.plot(resnet101_700['iter'].tolist(),resnet101_700['all'].tolist(),\"-\",label=\"resnet101_700\")\n",
    "    pyplot.plot(yolact_plus_resnet50['iter'].tolist(),yolact_plus_resnet50['all'].tolist(),\"-\",label=\"yolact_plus_resnet50\")\n",
    "    pyplot.plot(yolact_plus_resnet101['iter'].tolist(),yolact_plus_resnet101['all'].tolist(),\"-\",label=\"yolact_plus_resnet101\")\n",
    "    pyplot.xlabel('Iter')\n",
    "    pyplot.ylabel('0.5:0.05:0.9 mAP')\n",
    "    pyplot.xticks(range(0,100001,20000))\n",
    "    pyplot.xlim(right=100000)\n",
    "    pyplot.legend(loc='lower right')\n",
    "    pyplot.title('0.5:0.05:0.9 mAP per iter')\n",
    "    pyplot.show()\n",
    "\n",
    "\n",
    "\n",
    "# plot_csv_box_loss('loss_lips_on_rmi_darknet53.csv')\n",
    "# plot_csv_box_loss('loss_lips_on_rmi_resnet50.csv')\n",
    "# plot_csv_box_loss('loss_lips_on_rmi_resnet101.csv')\n",
    "# plot_csv_box_loss('loss_lips_on_rmi_resnet101_700.csv')\n",
    "# plot_csv_box_loss('loss_yolact_plus_lips_on_rmi_resnet50.csv')\n",
    "# plot_csv_box_loss('loss_yolact_plus_lips_on_rmi_resnet101.csv')\n",
    "\n",
    "# plot_csv_val('val_box_lips_on_rmi_darknet53.csv')\n",
    "# plot_csv_val('val_box_lips_on_rmi_resnet50.csv')\n",
    "# plot_csv_val('val_box_lips_on_rmi_resnet101.csv')\n",
    "# plot_csv_val('val_box_lips_on_rmi_resnet101_700.csv')\n",
    "# plot_csv_val('val_box_yolact_plus_lips_on_rmi_resnet50.csv')\n",
    "# plot_csv_val('val_box_yolact_plus_lips_on_rmi_resnet101.csv')\n",
    "\n",
    "# plot_csv_val('val_mask_lips_on_rmi_darknet53.csv')\n",
    "# plot_csv_val('val_mask_lips_on_rmi_resnet50.csv')\n",
    "# plot_csv_val('val_mask_lips_on_rmi_resnet101.csv')\n",
    "# plot_csv_val('val_mask_lips_on_rmi_resnet101_700.csv')\n",
    "# plot_csv_val('val_mask_yolact_plus_lips_on_rmi_resnet50.csv')\n",
    "plot_csv_val('val_mask_yolact_plus_lips_on_rmi_resnet101.csv')\n",
    "\n",
    "# plot_csv_val_box_all()\n",
    "# plot_csv_val_mask_all()"
   ]
  },
  {
   "attachments": {},
   "cell_type": "markdown",
   "metadata": {},
   "source": [
    "### Apply filters in test dataset "
   ]
  },
  {
   "attachments": {},
   "cell_type": "markdown",
   "metadata": {},
   "source": [
    "#### Gaussian blur (https://docs.opencv.org/4.x/d4/d86/group__imgproc__filter.html#gaabe8c836e97159a9193fb0b11ac52cf1)"
   ]
  },
  {
   "cell_type": "code",
   "execution_count": null,
   "metadata": {},
   "outputs": [],
   "source": [
    "import cv2, os\n",
    "\n",
    "img_dir = r\"C:\\Users\\gusta\\OneDrive\\Documentos\\TCC\\Dataset\\Pos-notacao_120Seg\\InstanceSegmentation\\120Seg.v2i.coco-segmentation\\test\"\n",
    "save_dir = r\"C:\\Users\\gusta\\OneDrive\\Documentos\\TCC\\Dataset\\Pos-notacao_120Seg\\InstanceSegmentation\\120Seg.v2i.coco-segmentation\\test_gaussian_blur\"\n",
    "\n",
    "for filename in os.listdir(img_dir):\n",
    "    if filename.endswith('.jpg'):\n",
    "        img = cv2.imread(os.path.join(img_dir,filename))\n",
    "        result = cv2.GaussianBlur(img,(5,5),cv2.BORDER_DEFAULT)     \n",
    "        cv2.imwrite(os.path.join(save_dir,filename),result)\n"
   ]
  },
  {
   "attachments": {},
   "cell_type": "markdown",
   "metadata": {},
   "source": [
    "#### Denoise filter (https://docs.opencv.org/4.x/d1/d79/group__photo__denoise.html#ga76abf348c234cecd0faf3c42ef3dc715)"
   ]
  },
  {
   "cell_type": "code",
   "execution_count": null,
   "metadata": {},
   "outputs": [],
   "source": [
    "import cv2, os\n",
    "\n",
    "img_dir = r\"C:\\Users\\gusta\\OneDrive\\Documentos\\TCC\\Dataset\\Pos-notacao_120Seg\\InstanceSegmentation\\120Seg.v2i.coco-segmentation\\test\"\n",
    "save_dir = r\"C:\\Users\\gusta\\OneDrive\\Documentos\\TCC\\Dataset\\Pos-notacao_120Seg\\InstanceSegmentation\\120Seg.v2i.coco-segmentation\\test_denoise\"\n",
    "\n",
    "for filename in os.listdir(img_dir):\n",
    "    if filename.endswith('.jpg'):\n",
    "        img = cv2.imread(os.path.join(img_dir,filename))\n",
    "        result = cv2.fastNlMeansDenoising(img,None,20,7,21)     \n",
    "        cv2.imwrite(os.path.join(save_dir,filename),result)"
   ]
  },
  {
   "attachments": {},
   "cell_type": "markdown",
   "metadata": {},
   "source": [
    "#### Gaussian Noise (https://www.kaggle.com/code/chanduanilkumar/adding-and-removing-image-noise-in-python/notebook)"
   ]
  },
  {
   "cell_type": "code",
   "execution_count": null,
   "metadata": {},
   "outputs": [],
   "source": [
    "import cv2, os\n",
    "import numpy as np\n",
    "\n",
    "img_dir = r\"C:\\Users\\gusta\\OneDrive\\Documentos\\TCC\\Dataset\\Pos-notacao_120Seg\\InstanceSegmentation\\120Seg.v2i.coco-segmentation\\test\"\n",
    "save_dir = r\"C:\\Users\\gusta\\OneDrive\\Documentos\\TCC\\Dataset\\Pos-notacao_120Seg\\InstanceSegmentation\\120Seg.v2i.coco-segmentation\\test_gaussian_noise\"\n",
    "\n",
    "\n",
    "for filename in os.listdir(img_dir):\n",
    "    if filename.endswith('.jpg'):\n",
    "        img = cv2.imread(os.path.join(img_dir,filename))\n",
    "        gauss_noise = np.random.normal(0,0.5,img.size)\n",
    "        gauss_noise = gauss_noise.reshape(img.shape[0],img.shape[1],img.shape[2]).astype('uint8')\n",
    "        result=cv2.add(img,gauss_noise)\n",
    "        cv2.imwrite(os.path.join(save_dir,filename),result)"
   ]
  },
  {
   "attachments": {},
   "cell_type": "markdown",
   "metadata": {},
   "source": [
    "### Salt&Pepper Noise (https://gist.github.com/lucaswiman/1e877a164a69f78694f845eab45c381a)"
   ]
  },
  {
   "cell_type": "code",
   "execution_count": null,
   "metadata": {},
   "outputs": [],
   "source": [
    "import cv2, os\n",
    "import numpy as np\n",
    "\n",
    "img_dir = r\"C:\\Users\\gusta\\OneDrive\\Documentos\\TCC\\Dataset\\Pos-notacao_120Seg\\InstanceSegmentation\\120Seg.v2i.coco-segmentation\\test\"\n",
    "save_dir = r\"C:\\Users\\gusta\\OneDrive\\Documentos\\TCC\\Dataset\\Pos-notacao_120Seg\\InstanceSegmentation\\120Seg.v2i.coco-segmentation\\test_salt&pepper\"\n",
    "\n",
    "\n",
    "for filename in os.listdir(img_dir):\n",
    "    if filename.endswith('.jpg'):\n",
    "        img = cv2.imread(os.path.join(img_dir,filename))\n",
    "        prob = 0.1\n",
    "        if len(img.shape) == 2:\n",
    "            black = 0\n",
    "            white = 255            \n",
    "        else:\n",
    "            colorspace = img.shape[2]\n",
    "            if colorspace == 3:  # RGB\n",
    "                black = np.array([0, 0, 0], dtype='uint8')\n",
    "                white = np.array([255, 255, 255], dtype='uint8')\n",
    "            else:  # RGBA\n",
    "                black = np.array([0, 0, 0, 255], dtype='uint8')\n",
    "                white = np.array([255, 255, 255, 255], dtype='uint8')\n",
    "        probs = np.random.random(img.shape[:2])\n",
    "        img[probs < (prob / 2)] = black\n",
    "        img[probs > 1 - (prob / 2)] = white\n",
    "        \n",
    "        cv2.imwrite(os.path.join(save_dir,filename),img)"
   ]
  }
 ],
 "metadata": {
  "kernelspec": {
   "display_name": "yolox",
   "language": "python",
   "name": "python3"
  },
  "language_info": {
   "codemirror_mode": {
    "name": "ipython",
    "version": 3
   },
   "file_extension": ".py",
   "mimetype": "text/x-python",
   "name": "python",
   "nbconvert_exporter": "python",
   "pygments_lexer": "ipython3",
   "version": "3.7.2"
  },
  "orig_nbformat": 4,
  "vscode": {
   "interpreter": {
    "hash": "46329920fa094d7f0a08cbcfd23b6fb3c0f6a69130ebb65bc1047676dcfc0004"
   }
  }
 },
 "nbformat": 4,
 "nbformat_minor": 2
}
